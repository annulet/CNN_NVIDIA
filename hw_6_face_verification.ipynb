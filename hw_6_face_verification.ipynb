{
  "nbformat": 4,
  "nbformat_minor": 0,
  "metadata": {
    "colab": {
      "name": "hw_6_face_verification.ipynb",
      "provenance": [],
      "machine_shape": "hm",
      "authorship_tag": "ABX9TyOCYaI4SXSEfLGQXA/gQhqU",
      "include_colab_link": true
    },
    "kernelspec": {
      "name": "python3",
      "display_name": "Python 3"
    },
    "accelerator": "GPU"
  },
  "cells": [
    {
      "cell_type": "markdown",
      "metadata": {
        "id": "view-in-github",
        "colab_type": "text"
      },
      "source": [
        "<a href=\"https://colab.research.google.com/github/annulet/CNN_NVIDIA/blob/master/hw_6_face_verification.ipynb\" target=\"_parent\"><img src=\"https://colab.research.google.com/assets/colab-badge.svg\" alt=\"Open In Colab\"/></a>"
      ]
    },
    {
      "cell_type": "markdown",
      "metadata": {
        "id": "qRxwvcgBH8C1",
        "colab_type": "text"
      },
      "source": [
        "Обучить сиамскую сеть для верификации лиц на датасете LFW\n",
        "Библиотеки: [Python, Tensorflow]"
      ]
    },
    {
      "cell_type": "code",
      "metadata": {
        "id": "icvGLFZmcLUT",
        "colab_type": "code",
        "colab": {}
      },
      "source": [
        "%tensorflow_version 2.x"
      ],
      "execution_count": 0,
      "outputs": []
    },
    {
      "cell_type": "code",
      "metadata": {
        "id": "e2nIniB_dxtF",
        "colab_type": "code",
        "colab": {}
      },
      "source": [
        "%matplotlib inline\n",
        "import matplotlib.pyplot as plt\n",
        "import numpy as np\n",
        "from sklearn.manifold import TSNE\n",
        "\n",
        "import tensorflow as tf\n",
        "import tensorflow_datasets as tfds"
      ],
      "execution_count": 0,
      "outputs": []
    },
    {
      "cell_type": "markdown",
      "metadata": {
        "id": "7h4gm2wVgL0A",
        "colab_type": "text"
      },
      "source": [
        "##Загрузка датасета LFW"
      ]
    },
    {
      "cell_type": "code",
      "metadata": {
        "id": "EB3d-5JPd1Sj",
        "colab_type": "code",
        "colab": {}
      },
      "source": [
        "(train_ds, test_ds), ds_info = tfds.load(\n",
        "    'lfw',\n",
        "    as_supervised=True,\n",
        "    with_info=True,\n",
        "    split=['train[:90%]', 'train[90%:]'],\n",
        ")"
      ],
      "execution_count": 0,
      "outputs": []
    },
    {
      "cell_type": "code",
      "metadata": {
        "id": "hTik6g0k0TGU",
        "colab_type": "code",
        "colab": {
          "base_uri": "https://localhost:8080/",
          "height": 490
        },
        "outputId": "4f1e7639-75ad-4494-99e0-70fea50a2e7e"
      },
      "source": [
        "ds_info"
      ],
      "execution_count": 4,
      "outputs": [
        {
          "output_type": "execute_result",
          "data": {
            "text/plain": [
              "tfds.core.DatasetInfo(\n",
              "    name='lfw',\n",
              "    version=0.1.0,\n",
              "    description='Labeled Faces in the Wild:\n",
              "        A Database for Studying Face Recognition in\n",
              "        Unconstrained Environments',\n",
              "    homepage='http://vis-www.cs.umass.edu/lfw',\n",
              "    features=FeaturesDict({\n",
              "        'image': Image(shape=(250, 250, 3), dtype=tf.uint8),\n",
              "        'label': Text(shape=(), dtype=tf.string),\n",
              "    }),\n",
              "    total_num_examples=13233,\n",
              "    splits={\n",
              "        'train': 13233,\n",
              "    },\n",
              "    supervised_keys=('label', 'image'),\n",
              "    citation=\"\"\"@TechReport{LFWTech,\n",
              "        author = {Gary B. Huang and Manu Ramesh and Tamara Berg and Erik Learned-Miller},\n",
              "        title = {Labeled Faces in the Wild: A Database for Studying Face Recognition in Unconstrained Environments},\n",
              "        institution = {University of Massachusetts, Amherst},\n",
              "        year = 2007,\n",
              "        number = {07-49},\n",
              "        month = {October}\n",
              "    }\"\"\",\n",
              "    redistribution_info=,\n",
              ")"
            ]
          },
          "metadata": {
            "tags": []
          },
          "execution_count": 4
        }
      ]
    },
    {
      "cell_type": "code",
      "metadata": {
        "id": "zqrqsit8epoz",
        "colab_type": "code",
        "colab": {
          "base_uri": "https://localhost:8080/",
          "height": 287
        },
        "outputId": "0b75197d-63c7-4080-b86e-0cba92fcfdf4"
      },
      "source": [
        "for example in train_ds.take(1):  # Only take a single example\n",
        "    image, label = example[1], example[0]\n",
        "\n",
        "    plt.imshow(image.numpy().astype(np.float32)/255)\n",
        "    print(f\"Label: {label}\")"
      ],
      "execution_count": 5,
      "outputs": [
        {
          "output_type": "stream",
          "text": [
            "Label: b'Tom_Amstutz'\n"
          ],
          "name": "stdout"
        },
        {
          "output_type": "display_data",
          "data": {
            "image/png": "[encoded data removed]",
            "text/plain": [
              "<Figure size 432x288 with 1 Axes>"
            ]
          },
          "metadata": {
            "tags": [],
            "needs_background": "light"
          }
        }
      ]
    },
    {
      "cell_type": "code",
      "metadata": {
        "id": "-tpYkV2AuCYJ",
        "colab_type": "code",
        "colab": {
          "base_uri": "https://localhost:8080/",
          "height": 35
        },
        "outputId": "a08ca435-f8a1-46f0-bde1-8860d53828a4"
      },
      "source": [
        "train_ds"
      ],
      "execution_count": 6,
      "outputs": [
        {
          "output_type": "execute_result",
          "data": {
            "text/plain": [
              "<DatasetV1Adapter shapes: ((), (250, 250, 3)), types: (tf.string, tf.uint8)>"
            ]
          },
          "metadata": {
            "tags": []
          },
          "execution_count": 6
        }
      ]
    },
    {
      "cell_type": "markdown",
      "metadata": {
        "id": "l0WmnLRTgF7x",
        "colab_type": "text"
      },
      "source": [
        "##Создание модели CNN"
      ]
    },
    {
      "cell_type": "code",
      "metadata": {
        "id": "IdAdJs6wfAzR",
        "colab_type": "code",
        "colab": {}
      },
      "source": [
        "EMB_SIZE = 250\n",
        "\n",
        "model = tf.keras.models.Sequential([\n",
        "    tf.keras.layers.Conv2D(32, (5, 5), padding='same', activation='relu'),\n",
        "    tf.keras.layers.MaxPool2D((2, 2), (2, 2)),\n",
        "    tf.keras.layers.Conv2D(64, (5, 5), padding='same', activation='relu'),\n",
        "    tf.keras.layers.MaxPool2D((2, 2), (2, 2)),\n",
        "    tf.keras.layers.Conv2D(128, (5, 5), padding='same', activation='relu'),\n",
        "    tf.keras.layers.MaxPool2D((2, 2), (2, 2)),\n",
        "    tf.keras.layers.Conv2D(256, (3, 3), padding='same', activation='relu'),\n",
        "    tf.keras.layers.MaxPool2D((2, 2), (2, 2)),\n",
        "    tf.keras.layers.Flatten(),\n",
        "    tf.keras.layers.Dense(256, activation='relu'),\n",
        "    tf.keras.layers.Dropout(0.5),\n",
        "    tf.keras.layers.Dense(EMB_SIZE, activation=None),\n",
        "])"
      ],
      "execution_count": 0,
      "outputs": []
    },
    {
      "cell_type": "markdown",
      "metadata": {
        "id": "uwV4do-Tna3M",
        "colab_type": "text"
      },
      "source": [
        "##Contrastive Loss"
      ]
    },
    {
      "cell_type": "code",
      "metadata": {
        "id": "gUC-lr4rgIVA",
        "colab_type": "code",
        "colab": {}
      },
      "source": [
        "MARGIN = 10.0\n",
        "\n",
        "def contastive_loss(embs, labels):\n",
        "    bs = embs.shape[0]\n",
        "    embs1 = embs[:bs//2, :]\n",
        "    embs2 = embs[bs//2:, :]\n",
        "    labels1 = labels[:bs//2]\n",
        "    labels2 = labels[bs//2:]\n",
        "\n",
        "    d2 = tf.reduce_sum(tf.square(embs1 - embs2), axis=1)\n",
        "    d =  tf.sqrt(d2)\n",
        "    z = tf.cast(labels1 == labels2, tf.float32)\n",
        "    \n",
        "    return tf.reduce_mean(z * d2 + (1-z) * tf.maximum(0, MARGIN - d)**2)"
      ],
      "execution_count": 0,
      "outputs": []
    },
    {
      "cell_type": "markdown",
      "metadata": {
        "id": "taFHaCy9nleT",
        "colab_type": "text"
      },
      "source": [
        "##Подготовка пайплайна данных"
      ]
    },
    {
      "cell_type": "code",
      "metadata": {
        "id": "H0tdZ2EA3nle",
        "colab_type": "code",
        "colab": {}
      },
      "source": [
        "def normalize_example(label, image):\n",
        "    return label, tf.cast(image, tf.float32) / 255."
      ],
      "execution_count": 0,
      "outputs": []
    },
    {
      "cell_type": "code",
      "metadata": {
        "id": "u6b8-8Akng4E",
        "colab_type": "code",
        "colab": {}
      },
      "source": [
        "BATCH_SIZE = 64\n",
        "NUM_EPOCHS = 10\n",
        "\n",
        "train_ds = train_ds.map(normalize_example)\n",
        "train_ds = train_ds.shuffle(buffer_size=1000)\n",
        "train_ds = train_ds.repeat(NUM_EPOCHS)\n",
        "train_ds = train_ds.batch(BATCH_SIZE)"
      ],
      "execution_count": 0,
      "outputs": []
    },
    {
      "cell_type": "code",
      "metadata": {
        "id": "T5TdcWVADoOs",
        "colab_type": "code",
        "colab": {
          "base_uri": "https://localhost:8080/",
          "height": 35
        },
        "outputId": "24b77d72-33e3-424a-e224-fbc78ce042f5"
      },
      "source": [
        "train_ds"
      ],
      "execution_count": 23,
      "outputs": [
        {
          "output_type": "execute_result",
          "data": {
            "text/plain": [
              "<DatasetV1Adapter shapes: ((None,), (None, 250, 250, 3)), types: (tf.string, tf.float32)>"
            ]
          },
          "metadata": {
            "tags": []
          },
          "execution_count": 23
        }
      ]
    },
    {
      "cell_type": "code",
      "metadata": {
        "id": "M8GVEDVr7qKN",
        "colab_type": "code",
        "colab": {}
      },
      "source": [
        "test_ds = test_ds.map(normalize_example)\n",
        "test_ds = test_ds.shuffle(buffer_size=1000)\n",
        "test_ds = test_ds.batch(BATCH_SIZE)"
      ],
      "execution_count": 0,
      "outputs": []
    },
    {
      "cell_type": "code",
      "metadata": {
        "id": "1Vu6CLonDrFp",
        "colab_type": "code",
        "colab": {
          "base_uri": "https://localhost:8080/",
          "height": 35
        },
        "outputId": "5e39d4ec-20b8-4270-f30a-d3809425d69a"
      },
      "source": [
        "test_ds"
      ],
      "execution_count": 27,
      "outputs": [
        {
          "output_type": "execute_result",
          "data": {
            "text/plain": [
              "<DatasetV1Adapter shapes: ((None,), (None, 250, 250, 3)), types: (tf.string, tf.float32)>"
            ]
          },
          "metadata": {
            "tags": []
          },
          "execution_count": 27
        }
      ]
    },
    {
      "cell_type": "markdown",
      "metadata": {
        "id": "kbTESL4_qdh_",
        "colab_type": "text"
      },
      "source": [
        "##Подготовка к обучению"
      ]
    },
    {
      "cell_type": "code",
      "metadata": {
        "id": "7P0PLjPknutr",
        "colab_type": "code",
        "colab": {}
      },
      "source": [
        "LEARNING_RATE = 0.001\n",
        "optimizer = tf.keras.optimizers.Adam(LEARNING_RATE)"
      ],
      "execution_count": 0,
      "outputs": []
    },
    {
      "cell_type": "markdown",
      "metadata": {
        "id": "a7wF0_xTqho6",
        "colab_type": "text"
      },
      "source": [
        "##Обучение модели"
      ]
    },
    {
      "cell_type": "code",
      "metadata": {
        "id": "PYwRxZgRqY61",
        "colab_type": "code",
        "colab": {
          "base_uri": "https://localhost:8080/",
          "height": 235
        },
        "outputId": "388b8229-9e91-4518-900f-aa0ed6ef07f0"
      },
      "source": [
        "%%time\n",
        "\n",
        "for iteration, (labels, images) in enumerate(train_ds):\n",
        "    \n",
        "    # Forward\n",
        "    with tf.GradientTape() as tape:\n",
        "        embs = model(images)\n",
        "        loss_value = contastive_loss(embs, labels)\n",
        "        \n",
        "    # Backward\n",
        "    grads = tape.gradient(loss_value, model.variables)\n",
        "    optimizer.apply_gradients(zip(grads, model.variables))\n",
        "\n",
        "    if iteration % 200 == 0:\n",
        "        print('[{}] Loss: {}'.format(iteration, loss_value.numpy()))"
      ],
      "execution_count": 13,
      "outputs": [
        {
          "output_type": "stream",
          "text": [
            "[0] Loss: 95.50837707519531\n",
            "[200] Loss: 0.0\n",
            "[400] Loss: 0.030790502205491066\n",
            "[600] Loss: 9.481263160705566\n",
            "[800] Loss: 0.008863966912031174\n",
            "[1000] Loss: 0.0\n",
            "[1200] Loss: 0.0\n",
            "[1400] Loss: 0.0\n",
            "[1600] Loss: 0.0\n",
            "[1800] Loss: 0.16380345821380615\n",
            "CPU times: user 9min 27s, sys: 5min 7s, total: 14min 35s\n",
            "Wall time: 18min 21s\n"
          ],
          "name": "stdout"
        }
      ]
    },
    {
      "cell_type": "markdown",
      "metadata": {
        "id": "T3F_BAFm8Bw8",
        "colab_type": "text"
      },
      "source": [
        "##Получение эмбеддингов для тестовой выборки"
      ]
    },
    {
      "cell_type": "code",
      "metadata": {
        "id": "5SkkPlgMqcZP",
        "colab_type": "code",
        "colab": {
          "base_uri": "https://localhost:8080/",
          "height": 54
        },
        "outputId": "83415afc-d669-49a3-f8d0-e84d7b40a81e"
      },
      "source": [
        "%%time\n",
        "\n",
        "test_embs = []\n",
        "for iteration, (labels, images) in enumerate(test_ds):\n",
        "    embs = model(images)\n",
        "    label = labels\n",
        "    test_embs.append((embs, label))"
      ],
      "execution_count": 31,
      "outputs": [
        {
          "output_type": "stream",
          "text": [
            "CPU times: user 3.46 s, sys: 1.53 s, total: 5 s\n",
            "Wall time: 4.21 s\n"
          ],
          "name": "stdout"
        }
      ]
    },
    {
      "cell_type": "code",
      "metadata": {
        "id": "f1LEZl5aGKR5",
        "colab_type": "code",
        "colab": {}
      },
      "source": [
        ""
      ],
      "execution_count": 0,
      "outputs": []
    }
  ]
}